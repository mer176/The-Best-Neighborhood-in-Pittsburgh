import pandas as pd
import matplotlib.pyplot as plt



# crime data
file_path = '/mnt/data/Pittsburgh Crime Data.csv'  
crime_data = pd.read_csv(file_path)

# arrests by neighborhood
neighborhood_counts = crime_data['INCIDENTNEIGHBORHOOD'].value_counts()

# graph
plt.figure(figsize=(12, 8))
neighborhood_counts.plot(kind='bar', color=’pink’)
plt.title('Arrests by Neighborhood')
plt.xlabel('Number of Arrests')
plt.ylabel('Neighborhood')
plt.show()












# load park data
file_path = '/mnt/data/Pittsburgh Park Data.csv'  
parks_data = pd.read_csv(file_path)

# number of parks
park_counts = parks_data['neighborhood'].value_counts()


# graph
plt.figure(figsize=(12, 8))
park_counts.plot(kind='bar', color='green')
plt.title('Number of Parks by Neighborhood')
plt.xlabel('Number of Parks')
plt.ylabel('Neighborhood')
plt.show()



# traffic data
file_path = '/mnt/data/Pittsburgh Traffic Data.csv' 
traffic_data = pd.read_csv(file_path)

# traffic events based on location
location_counts = traffic_data['LOCATION'].value_counts()

# graph
plt.figure(figsize=(12, 8))
location_counts.plot(kind='bar', color=’blue’)
plt.title('Traffic Events by Location')
plt.xlabel('Number of Events')
plt.ylabel('Location')
plt.show()

# Combined metrics
# load datasets
parks_data = pd.read_csv('/mnt/data/Pittsburgh Park Data.csv')  
traffic_data = pd.read_csv('/mnt/data/Pittsburgh Traffic Data.csv') 
crime_data = pd.read_csv('/mnt/data/Pittsburgh Crime Data.csv')  

# metrics
park_counts = parks_data['neighborhood'].value_counts()
traffic_counts = traffic_data['LOCATION'].value_counts()
crime_counts = crime_data['INCIDENTNEIGHBORHOOD'].value_counts()

# combining metrics 
metrics = pd.DataFrame({
    'Parks': park_counts,
    'Traffic': traffic_counts,
    'Crimes': crime_counts
}).fillna(0)  

# combining metrics (negative weight for crimes because a greater number of crimes would be bad!)
metrics['Combined_Score'] = metrics['Parks'] - metrics['Traffic'] - metrics['Crimes']

# which is the best neighborhood based off the combined metrics
best_neighborhood = metrics['Combined_Score'].idxmax()
best_score = metrics['Combined_Score'].max()

print(f"The best neighborhood in Pittsburgh is: {best_neighborhood}")
print(f"Combined Score: {best_score}")
