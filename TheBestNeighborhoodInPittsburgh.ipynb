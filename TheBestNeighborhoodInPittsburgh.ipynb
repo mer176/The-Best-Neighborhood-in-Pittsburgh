{
 "cells": [
  {
   "cell_type": "code",
   "execution_count": null,
   "id": "1cb2f35e-71f4-4678-bb82-b32303a60eeb",
   "metadata": {},
   "outputs": [],
   "source": [
    "##Introduction\n",
    "\n",
    "##In this project, I was instructed to determine the best neighborhood in Pittsburgh by analyzing various aspects that contribute to the overall quality of life in an area. I chose three metrics to determine this: safety, traffic, and number of green spaces. I used datasets from the Western Pennsylvania Regional Data Center (WPRDC) to achieve this goal and gather data.\n",
    "##The Metric\n",
    "#Safety: Measured by the number of reported crimes per neighborhood.\n",
    "#Traffic: Deployed as part of traffic studies, including intersection studies, and studies covering where or whether to install speed humps.\n",
    "#Green Spaces: Measured by the number of parks and their total area in each neighborhood.\n"
   ]
  },
  {
   "cell_type": "code",
   "execution_count": null,
   "id": "9328554c-eaee-49cc-a0c4-91f1708978b2",
   "metadata": {},
   "outputs": [],
   "source": [
    "import pandas as pd\n",
    "import matplotlib.pyplot as plt\n",
    "\n",
    "%matplotlib inline\n",
    "\n",
    "file_path = 'Pittsburgh Crime Data.csv'  \n",
    "\n",
    "\n",
    "crime_data = pd.read_csv(file_path)\n",
    "\n",
    "neighborhood_counts = crime_data['INCIDENTNEIGHBORHOOD'].value_counts()\n",
    "\n",
    "# Plotting\n",
    "plt.figure(figsize=(12, 8))\n",
    "neighborhood_counts.plot(kind='bar', color='salmon')\n",
    "plt.title('Arrests by Neighborhood')\n",
    "plt.xlabel('Neighborhood')\n",
    "plt.ylabel('Number of Arrests')\n",
    "plt.show()"
   ]
  },
  {
   "cell_type": "code",
   "execution_count": null,
   "id": "325486e7-31ac-468d-9420-bf14224dd152",
   "metadata": {},
   "outputs": [],
   "source": [
    "# load park data\n",
    "file_path = '/mnt/data/Pittsburgh Park Data.csv'  \n",
    "parks_data = pd.read_csv(file_path)\n",
    "\n",
    "# number of parks\n",
    "park_counts = parks_data['neighborhood'].value_counts()\n",
    "\n",
    "\n",
    "# graph\n",
    "plt.figure(figsize=(12, 8))\n",
    "park_counts.plot(kind='bar', color='green')\n",
    "plt.title('Number of Parks by Neighborhood')\n",
    "plt.xlabel('Number of Parks')\n",
    "plt.ylabel('Neighborhood')\n",
    "plt.show()"
   ]
  },
  {
   "cell_type": "code",
   "execution_count": null,
   "id": "ef338b83-6266-4d2d-b31b-f8fa65e7cb7a",
   "metadata": {},
   "outputs": [],
   "source": [
    "\n",
    "\n",
    "# traffic data\n",
    "file_path = '/mnt/data/Pittsburgh Traffic Data.csv' \n",
    "traffic_data = pd.read_csv(file_path)\n",
    "\n",
    "# traffic events based on location\n",
    "location_counts = traffic_data['LOCATION'].value_counts()\n",
    "\n",
    "# graph\n",
    "plt.figure(figsize=(12, 8))\n",
    "location_counts.plot(kind='bar', color=’blue’)\n",
    "plt.title('Traffic Events by Location')\n",
    "plt.xlabel('Number of Events')\n",
    "plt.ylabel('Location')\n",
    "plt.show()\n",
    "\n",
    "\n",
    "\n"
   ]
  },
  {
   "cell_type": "code",
   "execution_count": null,
   "id": "e2c6a18e-9d83-4728-a41e-d9bbedd2b61e",
   "metadata": {},
   "outputs": [],
   "source": [
    "\n",
    "# Load datasets\n",
    "parks_data = pd.read_csv('/mnt/data/Pittsburgh Park Data.csv')  \n",
    "traffic_data = pd.read_csv('/mnt/data/Pittsburgh Traffic Data.csv') \n",
    "crime_data = pd.read_csv('/mnt/data/Pittsburgh Crime Data.csv')  \n",
    "\n",
    "# metrics\n",
    "park_counts = parks_data['neighborhood'].value_counts()\n",
    "traffic_counts = traffic_data['LOCATION'].value_counts()\n",
    "crime_counts = crime_data['INCIDENTNEIGHBORHOOD'].value_counts()\n",
    "\n",
    "# combining metrics \n",
    "metrics = pd.DataFrame({\n",
    "    'Parks': park_counts,\n",
    "    'Traffic': traffic_counts,\n",
    "    'Crimes': crime_counts\n",
    "}).fillna(0)  \n",
    "\n",
    "# combining metrics (negative weight for crimes because a greater number of crimes would be bad!)\n",
    "metrics['Combined_Score'] = metrics['Parks'] - metrics['Traffic'] - metrics['Crimes']\n",
    "\n",
    "# which is the best neighborhood based off the combined metrics\n",
    "best_neighborhood = metrics['Combined_Score'].idxmax()\n",
    "best_score = metrics['Combined_Score'].max()\n",
    "\n",
    "print(f\"The best neighborhood in Pittsburgh is: {best_neighborhood}\")\n",
    "print(f\"Combined Score: {best_score}\")\n",
    "\n"
   ]
  },
  {
   "cell_type": "code",
   "execution_count": null,
   "id": "8e3acceb-c122-4905-82c0-fc1dd3adeedc",
   "metadata": {},
   "outputs": [],
   "source": [
    "##Conclusion\n",
    "##Based on my combined metric, I found that the best neighborhood in Pittsburgh is Shadyside. \n",
    "##This neighborhood scores well in safety, has numerous parks, and experiences less traffic than other neighborhoods.\n",
    "##My takeaway\n",
    "##I really enjoyed learning how data can be used to visualize an issue or overall goal. Not only was I able to find out what neighborhood \n",
    "##is the “best”, but I was able to make what were once only numbers on a spreadsheet actually make sense in terms of comparing the neighborhoods \n",
    "##against each other. Shadyside is a personal favorite of mine, so the outcome of the combined data metrics was not surprising to me. I hope to learn more about other data visualization \n",
    "##tools in the future, as this assignment proved to be a great learning experience.\n"
   ]
  }
 ],
 "metadata": {
  "kernelspec": {
   "display_name": "Python 3 (ipykernel)",
   "language": "python",
   "name": "python3"
  },
  "language_info": {
   "codemirror_mode": {
    "name": "ipython",
    "version": 3
   },
   "file_extension": ".py",
   "mimetype": "text/x-python",
   "name": "python",
   "nbconvert_exporter": "python",
   "pygments_lexer": "ipython3",
   "version": "3.12.4"
  }
 },
 "nbformat": 4,
 "nbformat_minor": 5
}
